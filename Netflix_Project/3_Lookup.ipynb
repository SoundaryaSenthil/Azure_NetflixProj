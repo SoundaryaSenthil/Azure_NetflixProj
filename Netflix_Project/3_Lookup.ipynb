{
 "cells": [
  {
   "cell_type": "markdown",
   "metadata": {
    "application/vnd.databricks.v1+cell": {
     "cellMetadata": {},
     "inputWidgets": {},
     "nuid": "0d95de2d-028c-4b37-bfc7-d6161b79a57a",
     "showTitle": false,
     "tableResultSettingsMap": {},
     "title": ""
    }
   },
   "source": [
    "## Array Parameter"
   ]
  },
  {
   "cell_type": "code",
   "execution_count": 0,
   "metadata": {
    "application/vnd.databricks.v1+cell": {
     "cellMetadata": {
      "byteLimit": 2048000,
      "rowLimit": 10000
     },
     "inputWidgets": {},
     "nuid": "8c4cc60b-80e4-486b-a9ff-bd1c8fb2c915",
     "showTitle": false,
     "tableResultSettingsMap": {},
     "title": ""
    }
   },
   "outputs": [],
   "source": [
    "files = [\n",
    "   {\n",
    "      \"sourcefolder\" : \"netflix_directors\",\n",
    "      \"targetfolder\" : \"netflix_directors\"\n",
    "   },\n",
    "      {\n",
    "      \"sourcefolder\" : \"netflix_cast\",\n",
    "      \"targetfolder\" : \"netflix_cast\"\n",
    "   },\n",
    "         {\n",
    "      \"sourcefolder\" : \"netflix_countries\",\n",
    "      \"targetfolder\" : \"netflix_countries\"\n",
    "   },\n",
    "            {\n",
    "      \"sourcefolder\" : \"netflix_category\",\n",
    "      \"targetfolder\" : \"netflix_category\"\n",
    "   }\n",
    "]\n"
   ]
  },
  {
   "cell_type": "markdown",
   "metadata": {
    "application/vnd.databricks.v1+cell": {
     "cellMetadata": {},
     "inputWidgets": {},
     "nuid": "23f29152-9f8d-4ba2-97ab-c605a6b468ed",
     "showTitle": false,
     "tableResultSettingsMap": {},
     "title": ""
    }
   },
   "source": [
    "## Job Utitlity to return the array"
   ]
  },
  {
   "cell_type": "code",
   "execution_count": 0,
   "metadata": {
    "application/vnd.databricks.v1+cell": {
     "cellMetadata": {
      "byteLimit": 2048000,
      "rowLimit": 10000
     },
     "inputWidgets": {},
     "nuid": "57eac7f1-0e57-4afe-b4cb-88e79fe93334",
     "showTitle": false,
     "tableResultSettingsMap": {},
     "title": ""
    }
   },
   "outputs": [],
   "source": [
    "dbutils.jobs.taskValues.set(key = 'my_arr', value = files)"
   ]
  }
 ],
 "metadata": {
  "application/vnd.databricks.v1+notebook": {
   "computePreferences": null,
   "dashboards": [],
   "environmentMetadata": {
    "base_environment": "",
    "environment_version": "2"
   },
   "inputWidgetPreferences": null,
   "language": "python",
   "notebookMetadata": {
    "pythonIndentUnit": 4
   },
   "notebookName": "3_Lookup",
   "widgets": {}
  },
  "language_info": {
   "name": "python"
  }
 },
 "nbformat": 4,
 "nbformat_minor": 0
}
